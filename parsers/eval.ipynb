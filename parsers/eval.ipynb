{
 "cells": [
  {
   "cell_type": "code",
   "execution_count": 74,
   "metadata": {},
   "outputs": [],
   "source": [
    "import pandas as pd\n",
    "import os"
   ]
  },
  {
   "cell_type": "code",
   "execution_count": 75,
   "metadata": {},
   "outputs": [],
   "source": [
    "def parseErrFile(path):\n",
    "    sim_names = []\n",
    "    sim_errors = []\n",
    "    with open(path, \"r\") as f:\n",
    "        for line in f:\n",
    "            aux = line.split()\n",
    "            if len(aux)>=7:\n",
    "                if \"_\" in aux[0]:\n",
    "                    if aux[-1]!='nan':\n",
    "                        sim_names.append(aux[0])\n",
    "                        sim_errors.append(aux[-1])\n",
    "    return sim_names, sim_errors\n",
    "\n",
    "def makedf(sim_names, sim_errors):\n",
    "    d = {\"file_name\": sim_names, \"error\": pd.to_numeric(sim_errors)}\n",
    "    return pd.DataFrame(data=d)\n",
    "\n",
    "def parseAllSpecies(path):\n",
    "    debug_folder = path+'/debug/*.csv'\n",
    "    return debug_folder\n"
   ]
  },
  {
   "cell_type": "code",
   "execution_count": 76,
   "metadata": {},
   "outputs": [
    {
     "name": "stdout",
     "output_type": "stream",
     "text": [
      "file_name    atp_test_0001\n",
      "error             0.184964\n",
      "Name: 0, dtype: object\n"
     ]
    }
   ],
   "source": [
    "dir_path = '/home/nvme/Opt/outputs/atp_test2.opp'\n",
    "dirs = os.listdir(dir_path)\n",
    "\n",
    "#Ez a driveról letöltötthöz jó\n",
    "#for d in dirs:\n",
    "#    if \".opp\" in d:\n",
    "#       sim_names, sim_errors = parseErrFile(dir_path+'/'+d+'/errfValues')\n",
    "#       df = makedf(sim_names, sim_errors)\n",
    "#\n",
    "#       minErr = df.iloc[df['error'].idxmin()].to_frame().T\n",
    "#       minErr.to_csv(\"testing.csv\", mode='a', index=False, header=False)\n",
    "#\n",
    "#       print(df.iloc[df['error'].idxmin()])\n",
    "for d in dirs:\n",
    "    if d=='errfValues':\n",
    "       sim_names, sim_errors = parseErrFile(dir_path+'/'+d)\n",
    "       df = makedf(sim_names, sim_errors)\n",
    "\n",
    "       minErr = df.iloc[df['error'].idxmin()].to_frame().T\n",
    "       minErr.to_csv(\"./glucose.csv\", mode='a', index=False, header=False)\n",
    "\n",
    "       print(df.iloc[df['error'].idxmin()])\n",
    "\n"
   ]
  },
  {
   "cell_type": "code",
   "execution_count": 77,
   "metadata": {},
   "outputs": [],
   "source": [
    "plot_dir=dir_path+'/plots/plotData.txt'\n",
    "df_list = list()\n",
    "# holczer20019 mindegyik best fit 10000 sampleből, külön-külön\n",
    "# ulk=4153, mtor=6235, ampk=8795 ----> ez big rip, aut=5011 -----> big rip\n",
    "# zeng ugyan ugy mint holczer\n",
    "# casp=6366 aut=9572 bax=5951 bec1=3893\n",
    "with open(plot_dir, 'r') as f:\n",
    "    lines = f.readlines()\n",
    "    cols = [\"XML\", \"species\", \"point\", \"t / s\", \"exp.val.\", \"errorbar_low\", \"errorbar_high\", \"mech20240619\"]\n",
    "    l = 0\n",
    "    while l in range(len(lines)):\n",
    "        if '_0001_' in lines[l]:\n",
    "            df = pd.DataFrame(columns=cols)\n",
    "            for i in range(2,8):\n",
    "                data = lines[l+i].split()\n",
    "                df.loc[len(df)] = data\n",
    "            df_list.append(df)\n",
    "        l+=10\n",
    "            "
   ]
  },
  {
   "cell_type": "code",
   "execution_count": 78,
   "metadata": {},
   "outputs": [
    {
     "data": {
      "text/plain": [
       "[             XML species point        t / s     exp.val. errorbar_low  \\\n",
       " 0  atp_test_0001     ATP     1  0.00000E+00  5.53510E-13  6.99082E-13   \n",
       " 1  atp_test_0001     ATP     2  2.59200E+06  4.22770E-13  6.51150E-13   \n",
       " 2  atp_test_0001     ATP     3  5.18400E+06  1.51380E-13  2.96952E-13   \n",
       " 3  atp_test_0001     ATP     4  7.77600E+06  9.76380E-14  1.83652E-13   \n",
       " 4  atp_test_0001     ATP     5  1.03680E+07  4.96490E-14  1.58911E-13   \n",
       " 5  atp_test_0001     ATP     6  1.29600E+07  4.13470E-14  1.27361E-13   \n",
       " \n",
       "   errorbar_high mech20240619  \n",
       " 0   4.07938E-13  5.53505E-13  \n",
       " 1   1.94390E-13  3.15798E-13  \n",
       " 2   5.80800E-15  1.80209E-13  \n",
       " 3   1.16240E-14  1.02849E-13  \n",
       " 4  -5.96130E-14  5.87031E-14  \n",
       " 5  -4.46670E-14  3.35115E-14  ]"
      ]
     },
     "execution_count": 78,
     "metadata": {},
     "output_type": "execute_result"
    }
   ],
   "source": [
    "df_list"
   ]
  },
  {
   "cell_type": "code",
   "execution_count": 79,
   "metadata": {},
   "outputs": [
    {
     "data": {
      "image/png": "[encoded data removed]",
      "text/plain": [
       "<Figure size 640x480 with 4 Axes>"
      ]
     },
     "metadata": {},
     "output_type": "display_data"
    }
   ],
   "source": [
    "import matplotlib.pyplot as plt\n",
    "import numpy as np\n",
    "\n",
    "n_rows = 2\n",
    "n_cols = 2\n",
    "\n",
    "fig, axes = plt.subplots(n_rows, n_cols)\n",
    "for i, df in enumerate(df_list):\n",
    "    ax = axes[i // n_cols, i % n_cols]\n",
    "\n",
    "    test = df \n",
    "    fig_name = test.species[0]\n",
    "\n",
    "    data_points = test['exp.val.'].astype(float)\n",
    "    errorbar_high = test['errorbar_high'].astype(float)\n",
    "    errorbar_low = test['errorbar_low'].astype(float)\n",
    "    t = test['t / s'].astype(float)\n",
    "    sim = test['mech20240619'].astype(float)\n",
    "    errorbar_high[errorbar_high < 0] = 0\n",
    "    errorbar_low[errorbar_low < 0] = 0\n",
    "    ax.errorbar(t, data_points, yerr=[errorbar_low,errorbar_high], fmt='o')\n",
    "    ax.plot(t,sim, label = fig_name)\n",
    "    ax.legend()"
   ]
  },
  {
   "cell_type": "markdown",
   "metadata": {},
   "source": [
    "ez a jó glü fogyás\n",
    "ATP=>REF\t0.0000002195\t0\t0"
   ]
  }
 ],
 "metadata": {
  "kernelspec": {
   "display_name": "base",
   "language": "python",
   "name": "python3"
  },
  "language_info": {
   "codemirror_mode": {
    "name": "ipython",
    "version": 3
   },
   "file_extension": ".py",
   "mimetype": "text/x-python",
   "name": "python",
   "nbconvert_exporter": "python",
   "pygments_lexer": "ipython3",
   "version": "3.12.4"
  }
 },
 "nbformat": 4,
 "nbformat_minor": 2
}
