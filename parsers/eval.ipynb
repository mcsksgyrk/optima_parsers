{
 "cells": [
  {
   "cell_type": "code",
   "execution_count": 1,
   "metadata": {},
   "outputs": [],
   "source": [
    "import pandas as pd\n",
    "import os"
   ]
  },
  {
   "cell_type": "code",
   "execution_count": 24,
   "metadata": {},
   "outputs": [],
   "source": [
    "def parseErrFile(path):\n",
    "    sim_names = []\n",
    "    sim_errors = []\n",
    "    with open(path, \"r\") as f:\n",
    "        for line in f:\n",
    "            aux = line.split()\n",
    "            if len(aux)>=7:\n",
    "                if \"_\" in aux[0]:\n",
    "                    if aux[-1]!='nan':\n",
    "                        sim_names.append(aux[0])\n",
    "                        sim_errors.append(aux[-1])\n",
    "    return sim_names, sim_errors\n",
    "\n",
    "def makedf(sim_names, sim_errors):\n",
    "    d = {\"file_name\": sim_names, \"error\": pd.to_numeric(sim_errors)}\n",
    "    return pd.DataFrame(data=d)"
   ]
  },
  {
   "cell_type": "code",
   "execution_count": 32,
   "metadata": {},
   "outputs": [
    {
     "name": "stdout",
     "output_type": "stream",
     "text": [
      "file_name    holczer2015_100uM_3987\n",
      "error                      93.85926\n",
      "Name: 3986, dtype: object\n",
      "file_name    xu2014_sts0320_6935\n",
      "error                   0.867343\n",
      "Name: 6933, dtype: object\n",
      "file_name    Holczer2019_rap_6234\n",
      "error                    223391.4\n",
      "Name: 6233, dtype: object\n",
      "file_name    xu2014_sts0080_2128\n",
      "error                   0.854066\n",
      "Name: 2127, dtype: object\n",
      "file_name    delle2014_art_8327\n",
      "error                  4.582725\n",
      "Name: 8326, dtype: object\n",
      "file_name    xu2014_sts0020_0268\n",
      "error                   0.753359\n",
      "Name: 267, dtype: object\n",
      "file_name    zeng2012_48h_4928\n",
      "error                 305.4826\n",
      "Name: 4747, dtype: object\n",
      "file_name    delle2014_suppl_6120\n",
      "error                    3.321146\n",
      "Name: 6119, dtype: object\n",
      "file_name    xu2014_tun0100_3714\n",
      "error                   37.19805\n",
      "Name: 3712, dtype: object\n",
      "file_name    Holczer2019_starv_9281\n",
      "error                      87542.01\n",
      "Name: 8966, dtype: object\n",
      "file_name    xu2014_tun2000_4739\n",
      "error                    138.073\n",
      "Name: 4737, dtype: object\n",
      "file_name    xu2014_sts2500_7843\n",
      "error                   0.790551\n",
      "Name: 7841, dtype: object\n",
      "file_name    zeng2012_18h_0701\n",
      "error                 0.829856\n",
      "Name: 682, dtype: object\n"
     ]
    }
   ],
   "source": [
    "dir_path = './outputs'\n",
    "dirs = os.listdir(dir_path)\n",
    "\n",
    "for d in dirs:\n",
    "    if \".opp\" in d:\n",
    "       sim_names, sim_errors = parseErrFile(dir_path+'/'+d+'/errfValues')\n",
    "       df = makedf(sim_names, sim_errors)\n",
    "\n",
    "       minErr = df.iloc[df['error'].idxmin()].to_frame().T\n",
    "       minErr.to_csv(\"testing.csv\", mode='a', index=False, header=False)\n",
    "\n",
    "       print(df.iloc[df['error'].idxmin()])\n",
    "\n"
   ]
  },
  {
   "cell_type": "code",
   "execution_count": null,
   "metadata": {},
   "outputs": [],
   "source": []
  }
 ],
 "metadata": {
  "kernelspec": {
   "display_name": "base",
   "language": "python",
   "name": "python3"
  },
  "language_info": {
   "codemirror_mode": {
    "name": "ipython",
    "version": 3
   },
   "file_extension": ".py",
   "mimetype": "text/x-python",
   "name": "python",
   "nbconvert_exporter": "python",
   "pygments_lexer": "ipython3",
   "version": "3.9.13"
  }
 },
 "nbformat": 4,
 "nbformat_minor": 2
}
