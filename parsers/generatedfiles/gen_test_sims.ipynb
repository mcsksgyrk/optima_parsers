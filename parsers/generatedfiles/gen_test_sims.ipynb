{
 "cells": [
  {
   "cell_type": "code",
   "execution_count": 10,
   "metadata": {},
   "outputs": [],
   "source": [
    "from atp_std import *\n",
    "import pandas as pd\n",
    "import jinja2\n",
    "import time\n",
    "import os\n",
    "import numpy as np"
   ]
  },
  {
   "cell_type": "code",
   "execution_count": 11,
   "metadata": {},
   "outputs": [],
   "source": [
    "def makeDir(path):\n",
    "    if not os.path.exists(path):\n",
    "        os.makedirs(path)"
   ]
  },
  {
   "cell_type": "code",
   "execution_count": 12,
   "metadata": {},
   "outputs": [],
   "source": [
    "\n",
    "# Variables and bounds from file file\n",
    "df = pd.read_excel('../../reactionsICs_w_species.xlsx', header=None,\n",
    "                   sheet_name='ics', usecols=\"A:B\")\n",
    "bounds = generateBounds(df)\n",
    "species = getSpecies('../../atp.csv')\n",
    "# data files\n",
    "# data = pd.read_csv('./1dataMin/delle2014_dataArt.csv')"
   ]
  },
  {
   "cell_type": "code",
   "execution_count": 13,
   "metadata": {},
   "outputs": [],
   "source": [
    "red_bounds = dict()\n",
    "for k,v in bounds.items():\n",
    "    if k in species:\n",
    "        red_bounds[k]=v"
   ]
  },
  {
   "cell_type": "code",
   "execution_count": 14,
   "metadata": {},
   "outputs": [
    {
     "data": {
      "text/plain": [
       "{'AMPK': [1.25e-10, 3.75e-10],\n",
       " 'AKT': [5e-11, 1.5e-10],\n",
       " 'TSC': [2.5e-10, 7.5e-10],\n",
       " 'RHEB': [1.5e-10, 4.5e-10],\n",
       " 'mTOR': [1.25e-10, 3.75e-10],\n",
       " 'PI3K': [4e-11, 2e-10],\n",
       " 'Insulin': [0.0001, 1e-06],\n",
       " 'ATP': [3e-06, 3e-06]}"
      ]
     },
     "execution_count": 14,
     "metadata": {},
     "output_type": "execute_result"
    }
   ],
   "source": [
    "red_bounds['Insulin']=[1.0e-04,1.0e-06]\n",
    "red_bounds['ATP']=[3.0e-06,3.0e-06]\n",
    "red_bounds"
   ]
  },
  {
   "cell_type": "code",
   "execution_count": 15,
   "metadata": {},
   "outputs": [
    {
     "data": {
      "text/html": [
       "<div>\n",
       "<style scoped>\n",
       "    .dataframe tbody tr th:only-of-type {\n",
       "        vertical-align: middle;\n",
       "    }\n",
       "\n",
       "    .dataframe tbody tr th {\n",
       "        vertical-align: top;\n",
       "    }\n",
       "\n",
       "    .dataframe thead th {\n",
       "        text-align: right;\n",
       "    }\n",
       "</style>\n",
       "<table border=\"1\" class=\"dataframe\">\n",
       "  <thead>\n",
       "    <tr style=\"text-align: right;\">\n",
       "      <th></th>\n",
       "      <th>time</th>\n",
       "      <th>ATP</th>\n",
       "      <th>ATPstd</th>\n",
       "    </tr>\n",
       "  </thead>\n",
       "  <tbody>\n",
       "    <tr>\n",
       "      <th>0</th>\n",
       "      <td>0</td>\n",
       "      <td>1.0000</td>\n",
       "      <td>0.1315</td>\n",
       "    </tr>\n",
       "    <tr>\n",
       "      <th>1</th>\n",
       "      <td>720</td>\n",
       "      <td>0.7638</td>\n",
       "      <td>0.2063</td>\n",
       "    </tr>\n",
       "    <tr>\n",
       "      <th>2</th>\n",
       "      <td>1440</td>\n",
       "      <td>0.2735</td>\n",
       "      <td>0.1315</td>\n",
       "    </tr>\n",
       "    <tr>\n",
       "      <th>3</th>\n",
       "      <td>2160</td>\n",
       "      <td>0.1764</td>\n",
       "      <td>0.0777</td>\n",
       "    </tr>\n",
       "    <tr>\n",
       "      <th>4</th>\n",
       "      <td>2880</td>\n",
       "      <td>0.0897</td>\n",
       "      <td>0.0987</td>\n",
       "    </tr>\n",
       "    <tr>\n",
       "      <th>5</th>\n",
       "      <td>3600</td>\n",
       "      <td>0.0747</td>\n",
       "      <td>0.0777</td>\n",
       "    </tr>\n",
       "  </tbody>\n",
       "</table>\n",
       "</div>"
      ],
      "text/plain": [
       "   time     ATP  ATPstd\n",
       "0     0  1.0000  0.1315\n",
       "1   720  0.7638  0.2063\n",
       "2  1440  0.2735  0.1315\n",
       "3  2160  0.1764  0.0777\n",
       "4  2880  0.0897  0.0987\n",
       "5  3600  0.0747  0.0777"
      ]
     },
     "execution_count": 15,
     "metadata": {},
     "output_type": "execute_result"
    }
   ],
   "source": [
    "data = pd.read_csv('./1dataMin/glucose_depletion.csv')\n",
    "data"
   ]
  },
  {
   "cell_type": "code",
   "execution_count": 16,
   "metadata": {},
   "outputs": [
    {
     "data": {
      "text/plain": [
       "array(['AMPK', 'nS', 'AMPKa', 'mTORa', 'mTOR', 'TSC', 'TSCa', 'RHEBa',\n",
       "       'RHEB', 'PI3Ka', 'PI3K', 'AKT', 'AKTa', 'ATP', 'REF', 'Insulin'],\n",
       "      dtype='<U7')"
      ]
     },
     "execution_count": 16,
     "metadata": {},
     "output_type": "execute_result"
    }
   ],
   "source": [
    "species"
   ]
  },
  {
   "cell_type": "code",
   "execution_count": 17,
   "metadata": {},
   "outputs": [
    {
     "name": "stdout",
     "output_type": "stream",
     "text": [
      "job finished in: 20.759085416793823\n"
     ]
    }
   ],
   "source": [
    "output_directory = '/home/nvme/Opt/5_Bence/xml/atp_std'\n",
    "makeDir(output_directory)\n",
    "start = time.time()\n",
    "for i in range(1, 10001):\n",
    "    file_index = i\n",
    "    generate_file(file_index, output_directory, species, red_bounds, data)\n",
    "\n",
    "print(\"job finished in:\", time.time()-start)"
   ]
  },
  {
   "cell_type": "code",
   "execution_count": null,
   "metadata": {},
   "outputs": [],
   "source": []
  },
  {
   "cell_type": "code",
   "execution_count": null,
   "metadata": {},
   "outputs": [],
   "source": []
  }
 ],
 "metadata": {
  "kernelspec": {
   "display_name": "bence",
   "language": "python",
   "name": "python3"
  },
  "language_info": {
   "codemirror_mode": {
    "name": "ipython",
    "version": 3
   },
   "file_extension": ".py",
   "mimetype": "text/x-python",
   "name": "python",
   "nbconvert_exporter": "python",
   "pygments_lexer": "ipython3",
   "version": "3.12.4"
  }
 },
 "nbformat": 4,
 "nbformat_minor": 2
}
