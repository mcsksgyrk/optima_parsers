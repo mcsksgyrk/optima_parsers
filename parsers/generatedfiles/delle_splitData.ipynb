{
 "cells": [
  {
   "cell_type": "code",
   "execution_count": 1,
   "metadata": {},
   "outputs": [],
   "source": [
    "from delle import *\n",
    "import pandas as pd\n",
    "import jinja2\n",
    "import time\n",
    "import os"
   ]
  },
  {
   "cell_type": "code",
   "execution_count": 2,
   "metadata": {},
   "outputs": [],
   "source": [
    "def makeDir(path):\n",
    "    if not os.path.exists(path):\n",
    "        os.makedirs(path)"
   ]
  },
  {
   "cell_type": "code",
   "execution_count": 8,
   "metadata": {},
   "outputs": [],
   "source": [
    "\n",
    "# Variables and bounds from file file\n",
    "df = pd.read_excel('../../reactionsICs_w_species.xlsx', header=None,\n",
    "                   sheet_name='ics', usecols=\"A:B\")\n",
    "bounds = generateBounds(df)\n",
    "species = getSpecies('../../refs.csv')\n",
    "\n",
    "# data files\n",
    "data = pd.read_csv('./1dataMin/delle2014_dataArt.csv')"
   ]
  },
  {
   "cell_type": "code",
   "execution_count": 9,
   "metadata": {},
   "outputs": [
    {
     "data": {
      "text/html": [
       "<div>\n",
       "<style scoped>\n",
       "    .dataframe tbody tr th:only-of-type {\n",
       "        vertical-align: middle;\n",
       "    }\n",
       "\n",
       "    .dataframe tbody tr th {\n",
       "        vertical-align: top;\n",
       "    }\n",
       "\n",
       "    .dataframe thead th {\n",
       "        text-align: right;\n",
       "    }\n",
       "</style>\n",
       "<table border=\"1\" class=\"dataframe\">\n",
       "  <thead>\n",
       "    <tr style=\"text-align: right;\">\n",
       "      <th></th>\n",
       "      <th>time</th>\n",
       "      <th>mTORa</th>\n",
       "      <th>AKTa</th>\n",
       "      <th>AMPKa</th>\n",
       "    </tr>\n",
       "  </thead>\n",
       "  <tbody>\n",
       "    <tr>\n",
       "      <th>0</th>\n",
       "      <td>0</td>\n",
       "      <td>0.651790</td>\n",
       "      <td>0.407193</td>\n",
       "      <td>0.546594</td>\n",
       "    </tr>\n",
       "    <tr>\n",
       "      <th>1</th>\n",
       "      <td>5</td>\n",
       "      <td>0.465624</td>\n",
       "      <td>0.613246</td>\n",
       "      <td>0.819854</td>\n",
       "    </tr>\n",
       "    <tr>\n",
       "      <th>2</th>\n",
       "      <td>10</td>\n",
       "      <td>0.751669</td>\n",
       "      <td>1.000000</td>\n",
       "      <td>0.960126</td>\n",
       "    </tr>\n",
       "    <tr>\n",
       "      <th>3</th>\n",
       "      <td>15</td>\n",
       "      <td>0.979101</td>\n",
       "      <td>0.769852</td>\n",
       "      <td>1.000000</td>\n",
       "    </tr>\n",
       "    <tr>\n",
       "      <th>4</th>\n",
       "      <td>30</td>\n",
       "      <td>0.789960</td>\n",
       "      <td>0.520048</td>\n",
       "      <td>0.939166</td>\n",
       "    </tr>\n",
       "    <tr>\n",
       "      <th>5</th>\n",
       "      <td>45</td>\n",
       "      <td>1.000000</td>\n",
       "      <td>0.469461</td>\n",
       "      <td>0.860416</td>\n",
       "    </tr>\n",
       "  </tbody>\n",
       "</table>\n",
       "</div>"
      ],
      "text/plain": [
       "   time     mTORa      AKTa     AMPKa\n",
       "0     0  0.651790  0.407193  0.546594\n",
       "1     5  0.465624  0.613246  0.819854\n",
       "2    10  0.751669  1.000000  0.960126\n",
       "3    15  0.979101  0.769852  1.000000\n",
       "4    30  0.789960  0.520048  0.939166\n",
       "5    45  1.000000  0.469461  0.860416"
      ]
     },
     "execution_count": 9,
     "metadata": {},
     "output_type": "execute_result"
    }
   ],
   "source": [
    "data"
   ]
  },
  {
   "cell_type": "code",
   "execution_count": 7,
   "metadata": {},
   "outputs": [],
   "source": [
    "sigmas_non_scaled_a = {'mTORa': 0.17878573914637977,\n",
    "                      'AKTa': 0.18604569416239872,\n",
    "                      'AMPKa': 0.14158496278501073}\n",
    "#sigmas_non_scaled = {'mTORa': 0.23498394810272363,\n",
    "#                      'TSCa': 0.18381371460154958,\n",
    "#                      'AKTa': 0.2646293403942731,\n",
    "#                      'AMPKa': 0.2969378196038133}\n",
    "treatement = 'nS'"
   ]
  },
  {
   "cell_type": "code",
   "execution_count": 10,
   "metadata": {},
   "outputs": [
    {
     "name": "stdout",
     "output_type": "stream",
     "text": [
      "job finished in: 25.3109769821167\n",
      "job finished in: 25.45079803466797\n",
      "job finished in: 25.307840585708618\n"
     ]
    }
   ],
   "source": [
    "prs = ['mTOR', 'AKT', 'AMPK']\n",
    "for pr in prs:\n",
    "    output_directory = '/home/nvme/Opt/5_Bence/xml/delle_art_onebyone/delle_{}_only'.format(pr)\n",
    "    makeDir(output_directory)\n",
    "    string_to_match = pr\n",
    "    df = data.loc[:, data.columns.str.contains(string_to_match) | (data.columns == data.columns[0])]\n",
    "\n",
    "    start = time.time()\n",
    "    for i in range(1, 10001):\n",
    "        file_index = i\n",
    "        generate_file(file_index, output_directory, species, bounds, df, sigmas_non_scaled_a)\n",
    "\n",
    "    print(\"job finished in:\", time.time()-start)"
   ]
  },
  {
   "cell_type": "code",
   "execution_count": null,
   "metadata": {},
   "outputs": [],
   "source": []
  }
 ],
 "metadata": {
  "kernelspec": {
   "display_name": "bence",
   "language": "python",
   "name": "python3"
  },
  "language_info": {
   "codemirror_mode": {
    "name": "ipython",
    "version": 3
   },
   "file_extension": ".py",
   "mimetype": "text/x-python",
   "name": "python",
   "nbconvert_exporter": "python",
   "pygments_lexer": "ipython3",
   "version": "3.12.4"
  }
 },
 "nbformat": 4,
 "nbformat_minor": 2
}
